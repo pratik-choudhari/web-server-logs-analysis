{
 "cells": [
  {
   "cell_type": "markdown",
   "id": "529d986a4307854",
   "metadata": {},
   "source": "# Apache spark Pipeline to analyze web server logs"
  },
  {
   "cell_type": "markdown",
   "id": "50e5f487109ca734",
   "metadata": {},
   "source": [
    "## Extract"
   ]
  },
  {
   "cell_type": "code",
   "id": "initial_id",
   "metadata": {
    "collapsed": true,
    "jupyter": {
     "outputs_hidden": true
    },
    "ExecuteTime": {
     "end_time": "2024-09-14T15:10:05.122707Z",
     "start_time": "2024-09-14T15:10:05.112699Z"
    }
   },
   "source": [
    "from pyspark.sql import *\n",
    "import pyspark.sql.types as t\n",
    "import pyspark.sql.functions as f"
   ],
   "outputs": [],
   "execution_count": 13
  },
  {
   "cell_type": "code",
   "id": "32596f3ead9618ae",
   "metadata": {
    "ExecuteTime": {
     "end_time": "2024-09-14T15:10:05.202745Z",
     "start_time": "2024-09-14T15:10:05.162701Z"
    }
   },
   "source": [
    "spark = SparkSession.builder \\\n",
    "    .appName(\"logsApp\") \\\n",
    "    .config('spark.dirver.maxResultSize', '4096') \\\n",
    "    .master(\"local[5]\") \\\n",
    "    .getOrCreate()"
   ],
   "outputs": [],
   "execution_count": 14
  },
  {
   "cell_type": "code",
   "id": "21e601ede44360e5",
   "metadata": {
    "ExecuteTime": {
     "end_time": "2024-09-14T15:10:05.232739Z",
     "start_time": "2024-09-14T15:10:05.202745Z"
    }
   },
   "source": [
    "file_df = spark.read \\\n",
    "    .text(r\"D:\\project\\web-server-logs-analysis\\data\\calgary_access_log\\access_log\")"
   ],
   "outputs": [],
   "execution_count": 15
  },
  {
   "cell_type": "markdown",
   "id": "7ce91f11bc41a5b9",
   "metadata": {},
   "source": [
    "## Transform"
   ]
  },
  {
   "cell_type": "markdown",
   "id": "468b696ebcaabaae",
   "metadata": {},
   "source": "### Use regex to extract columns from text file"
  },
  {
   "cell_type": "code",
   "id": "d7994d600a6fce42",
   "metadata": {
    "ExecuteTime": {
     "end_time": "2024-09-14T15:10:05.322819Z",
     "start_time": "2024-09-14T15:10:05.232739Z"
    }
   },
   "source": [
    "log_reg = r'^(local|remote)( - - )\\[([\\w\\s:/-]+)\\] \\\"(\\w{3,8}) (\\w.+) ?([\\w/.\\d]+)?\\\" (\\d{3}) ([\\d|-]+)$'\n",
    "\n",
    "logs_df = file_df.select(f.regexp_extract('value', log_reg, 1).alias('host'),\n",
    "                         f.regexp_extract('value', log_reg, 3).alias('date'),\n",
    "                         f.regexp_extract('value', log_reg, 4).alias('http_method'),\n",
    "                         f.regexp_extract('value', log_reg, 5).alias('filename'),\n",
    "                         f.regexp_extract('value', log_reg, 7).alias('status_code'),\n",
    "                         f.regexp_extract('value', log_reg, 8).alias('reply_size'))"
   ],
   "outputs": [],
   "execution_count": 16
  },
  {
   "cell_type": "markdown",
   "id": "1514c80a622db993",
   "metadata": {},
   "source": "### Set schema"
  },
  {
   "cell_type": "code",
   "id": "74103738ea2fe343",
   "metadata": {
    "ExecuteTime": {
     "end_time": "2024-09-14T15:10:05.422962Z",
     "start_time": "2024-09-14T15:10:05.322819Z"
    }
   },
   "source": [
    "date_pattern = \"dd/MMM/yyyy:HH:mm:ss Z\"\n",
    "logs_df = logs_df.withColumn(\"host\", f.col(\"host\").cast(\"string\")) \\\n",
    "    .withColumn(\"date\", f.to_timestamp(f.col(\"date\"), date_pattern)) \\\n",
    "    .withColumn(\"http_method\", f.col(\"http_method\").cast(\"string\")) \\\n",
    "    .withColumn(\"filename\", f.col(\"filename\").cast(\"string\")) \\\n",
    "    .withColumn(\"status_code\", f.col(\"status_code\").cast(\"int\")) \\\n",
    "    .withColumn(\"reply_size\", f.col(\"reply_size\").cast(\"int\"))\n",
    "\n",
    "logs_df = logs_df.dropna(subset=['status_code'])"
   ],
   "outputs": [],
   "execution_count": 17
  },
  {
   "cell_type": "markdown",
   "id": "db44e09299f5bd15",
   "metadata": {},
   "source": [
    "### Add new columns"
   ]
  },
  {
   "cell_type": "code",
   "id": "dc96a79e46aa3960",
   "metadata": {
    "ExecuteTime": {
     "end_time": "2024-09-14T15:10:05.433071Z",
     "start_time": "2024-09-14T15:10:05.422962Z"
    }
   },
   "source": [
    "@f.udf(returnType=t.StringType())\n",
    "def status_category_udf(status: int):\n",
    "    if not status:\n",
    "        return \"-\"\n",
    "    elif 200 <= status <= 299:\n",
    "        return \"2xx\"\n",
    "    elif 300 <= status <= 399:\n",
    "        return \"3xx\"\n",
    "    elif 400 <= status <= 499:\n",
    "        return \"4xx\"\n",
    "    elif 500 <= status <= 599:\n",
    "        return \"5xx\"\n",
    "    else:\n",
    "        return \"-\"\n",
    "\n",
    "@f.udf(returnType=t.StringType())\n",
    "def size_category_udf(size: int):\n",
    "    if not size:\n",
    "        return \"-\"\n",
    "    elif 0 <= size <= 1_00_000:\n",
    "        return \"small\"\n",
    "    elif 1_01_000 <= size <= 2_00_000:\n",
    "        return \"medium\"\n",
    "    else:\n",
    "        return \"large\""
   ],
   "outputs": [],
   "execution_count": 18
  },
  {
   "cell_type": "code",
   "id": "da7565e65feca36c",
   "metadata": {
    "ExecuteTime": {
     "end_time": "2024-09-14T15:10:05.473006Z",
     "start_time": "2024-09-14T15:10:05.433071Z"
    }
   },
   "source": [
    "# there can be multiple files in one request, hence use a regex and get the first file extension\n",
    "logs_df = logs_df \\\n",
    "    .withColumn(\"file_extension\", f.regexp_extract(f.col(\"filename\"), r\"\\.[\\w-]+\", 0))\n",
    "\n",
    "# remove \".\" from the start of string\n",
    "logs_df = logs_df \\\n",
    "    .withColumn(\"file_extension\", f.substring(f.lower(\"file_extension\"), 2, 100))"
   ],
   "outputs": [],
   "execution_count": 19
  },
  {
   "cell_type": "code",
   "id": "2e397297eb22d518",
   "metadata": {
    "ExecuteTime": {
     "end_time": "2024-09-14T15:10:05.523025Z",
     "start_time": "2024-09-14T15:10:05.473006Z"
    }
   },
   "source": [
    "# extract components from date\n",
    "logs_df = logs_df \\\n",
    "    .withColumn(\"year\", f.year(\"date\")) \\\n",
    "    .withColumn(\"month\", f.month(\"date\")) \\\n",
    "    .withColumn(\"day_of_week\", f.dayofweek(\"date\"))"
   ],
   "outputs": [],
   "execution_count": 20
  },
  {
   "cell_type": "code",
   "id": "a3eef4aabcb142e9",
   "metadata": {
    "ExecuteTime": {
     "end_time": "2024-09-14T15:10:05.583054Z",
     "start_time": "2024-09-14T15:10:05.523025Z"
    }
   },
   "source": [
    "# status category column\n",
    "logs_df = logs_df \\\n",
    "    .withColumn(\"status_category\", status_category_udf(logs_df.status_code))\n",
    "\n",
    "# categorize based on reply size\n",
    "logs_df = logs_df \\\n",
    "    .withColumn(\"size_category\", size_category_udf(logs_df.status_code))"
   ],
   "outputs": [],
   "execution_count": 21
  },
  {
   "cell_type": "code",
   "id": "26b4ddfe7e5462f6",
   "metadata": {
    "ExecuteTime": {
     "end_time": "2024-09-14T15:10:05.593160Z",
     "start_time": "2024-09-14T15:10:05.583054Z"
    }
   },
   "source": [
    "logs_df.printSchema()"
   ],
   "outputs": [
    {
     "name": "stdout",
     "output_type": "stream",
     "text": [
      "root\n",
      " |-- host: string (nullable = true)\n",
      " |-- date: timestamp (nullable = true)\n",
      " |-- http_method: string (nullable = true)\n",
      " |-- filename: string (nullable = true)\n",
      " |-- status_code: integer (nullable = true)\n",
      " |-- reply_size: integer (nullable = true)\n",
      " |-- file_extension: string (nullable = true)\n",
      " |-- year: integer (nullable = true)\n",
      " |-- month: integer (nullable = true)\n",
      " |-- day_of_week: integer (nullable = true)\n",
      " |-- status_category: string (nullable = true)\n",
      " |-- size_category: string (nullable = true)\n",
      "\n"
     ]
    }
   ],
   "execution_count": 22
  },
  {
   "cell_type": "code",
   "id": "cc56e80e16d6911",
   "metadata": {
    "ExecuteTime": {
     "end_time": "2024-09-14T15:10:07.991834Z",
     "start_time": "2024-09-14T15:10:05.593160Z"
    }
   },
   "source": [
    "logs_df.show(3)"
   ],
   "outputs": [
    {
     "name": "stdout",
     "output_type": "stream",
     "text": [
      "+-----+-------------------+-----------+-------------------+-----------+----------+--------------+----+-----+-----------+---------------+-------------+\n",
      "| host|               date|http_method|           filename|status_code|reply_size|file_extension|year|month|day_of_week|status_category|size_category|\n",
      "+-----+-------------------+-----------+-------------------+-----------+----------+--------------+----+-----+-----------+---------------+-------------+\n",
      "|local|1994-10-24 15:41:41|        GET|index.html HTTP/1.0|        200|       150|          html|1994|   10|          2|            2xx|        small|\n",
      "|local|1994-10-24 15:41:41|        GET|     1.gif HTTP/1.0|        200|      1210|           gif|1994|   10|          2|            2xx|        small|\n",
      "|local|1994-10-24 15:43:13|        GET|index.html HTTP/1.0|        200|      3185|          html|1994|   10|          2|            2xx|        small|\n",
      "+-----+-------------------+-----------+-------------------+-----------+----------+--------------+----+-----+-----------+---------------+-------------+\n",
      "only showing top 3 rows\n",
      "\n"
     ]
    }
   ],
   "execution_count": 23
  },
  {
   "metadata": {},
   "cell_type": "markdown",
   "source": "## Load",
   "id": "21467cfe2c58dc89"
  },
  {
   "metadata": {
    "ExecuteTime": {
     "end_time": "2024-09-14T15:10:14.760717Z",
     "start_time": "2024-09-14T15:10:07.991834Z"
    }
   },
   "cell_type": "code",
   "source": "logs_df.write.partitionBy(\"year\").mode(\"overwrite\").parquet(\"./output/logs_parquet/\")",
   "id": "de7fa32904e69b3",
   "outputs": [],
   "execution_count": 24
  },
  {
   "metadata": {
    "ExecuteTime": {
     "end_time": "2024-09-14T15:10:15.750247Z",
     "start_time": "2024-09-14T15:10:14.760717Z"
    }
   },
   "cell_type": "code",
   "source": "spark.stop()",
   "id": "34d40b78dfa00efd",
   "outputs": [],
   "execution_count": 25
  },
  {
   "cell_type": "markdown",
   "id": "7fe4e5b9ca5c8082",
   "metadata": {},
   "source": "## Analysis - Head over to log_analysis.ipynb"
  },
  {
   "metadata": {
    "ExecuteTime": {
     "end_time": "2024-09-14T15:10:15.760095Z",
     "start_time": "2024-09-14T15:10:15.750247Z"
    }
   },
   "cell_type": "code",
   "source": "",
   "id": "f79c46208ff651e",
   "outputs": [],
   "execution_count": 25
  }
 ],
 "metadata": {
  "kernelspec": {
   "display_name": "Python 3 (ipykernel)",
   "language": "python",
   "name": "python3"
  },
  "language_info": {
   "codemirror_mode": {
    "name": "ipython",
    "version": 3
   },
   "file_extension": ".py",
   "mimetype": "text/x-python",
   "name": "python",
   "nbconvert_exporter": "python",
   "pygments_lexer": "ipython3",
   "version": "3.10.0"
  }
 },
 "nbformat": 4,
 "nbformat_minor": 5
}
